{
  "cells": [
    {
      "cell_type": "markdown",
      "metadata": {
        "id": "view-in-github",
        "colab_type": "text"
      },
      "source": [
        "<a href=\"https://colab.research.google.com/github/saulrubio75/lab_intro_pandas/blob/master/main_pandas.ipynb\" target=\"_parent\"><img src=\"https://colab.research.google.com/assets/colab-badge.svg\" alt=\"Open In Colab\"/></a>"
      ]
    },
    {
      "cell_type": "markdown",
      "metadata": {
        "id": "sKt8aj2YKVG8"
      },
      "source": [
        "# Introduction to Pandas Lab\n",
        "\n",
        "Complete the following set of exercises to solidify your knowledge of Pandas fundamentals."
      ]
    },
    {
      "cell_type": "markdown",
      "metadata": {
        "id": "0d3YE4NjKVG9"
      },
      "source": [
        "### 1. Import Numpy and Pandas and alias them to `np` and `pd` respectively."
      ]
    },
    {
      "cell_type": "code",
      "execution_count": 6,
      "metadata": {
        "id": "jI3Mh7MRKVG9"
      },
      "outputs": [],
      "source": [
        "import numpy as np \n",
        "import pandas as pd "
      ]
    },
    {
      "cell_type": "markdown",
      "metadata": {
        "id": "QduDDZ4LKVG9"
      },
      "source": [
        "### 2. Create a Pandas Series containing the elements of the list below."
      ]
    },
    {
      "cell_type": "code",
      "execution_count": 7,
      "metadata": {
        "id": "1PmXD8OIKVG-"
      },
      "outputs": [],
      "source": [
        "lst = [5.7, 75.2, 74.4, 84.0, 66.5, 66.3, 55.8, 75.7, 29.1, 43.7]"
      ]
    },
    {
      "cell_type": "code",
      "execution_count": 8,
      "metadata": {
        "id": "N0goGMaRKVG-",
        "outputId": "79c20a6b-3d0d-419b-e04c-a67e607b4ed8",
        "colab": {
          "base_uri": "https://localhost:8080/"
        }
      },
      "outputs": [
        {
          "output_type": "stream",
          "name": "stdout",
          "text": [
            "0     5.7\n",
            "1    75.2\n",
            "2    74.4\n",
            "3    84.0\n",
            "4    66.5\n",
            "5    66.3\n",
            "6    55.8\n",
            "7    75.7\n",
            "8    29.1\n",
            "9    43.7\n",
            "dtype: float64\n"
          ]
        }
      ],
      "source": [
        "a = pd.Series(lst) \n",
        "\n",
        "print(a)"
      ]
    },
    {
      "cell_type": "markdown",
      "metadata": {
        "id": "-qsdTbRBKVG-"
      },
      "source": [
        "### 3. Use indexing to return the third value in the Series above.\n",
        "\n",
        "*Hint: Remember that indexing begins at 0.*"
      ]
    },
    {
      "cell_type": "code",
      "execution_count": 9,
      "metadata": {
        "id": "3slo8UtmKVG-",
        "outputId": "d84da202-b5d0-477a-eb44-1d854127001b",
        "colab": {
          "base_uri": "https://localhost:8080/"
        }
      },
      "outputs": [
        {
          "output_type": "execute_result",
          "data": {
            "text/plain": [
              "74.4"
            ]
          },
          "metadata": {},
          "execution_count": 9
        }
      ],
      "source": [
        "a[2]"
      ]
    },
    {
      "cell_type": "markdown",
      "metadata": {
        "id": "VEsFmw5OKVG-"
      },
      "source": [
        "### 4. Create a Pandas DataFrame from the list of lists below. Each sublist should be represented as a row."
      ]
    },
    {
      "cell_type": "code",
      "execution_count": 35,
      "metadata": {
        "id": "vFo1nCOlKVG-",
        "colab": {
          "base_uri": "https://localhost:8080/",
          "height": 363
        },
        "outputId": "19f73567-34b3-4562-fcc4-f2818167069b"
      },
      "outputs": [
        {
          "output_type": "execute_result",
          "data": {
            "text/plain": [
              "      0     1     2     3     4\n",
              "0  53.1  95.0  67.5  35.0  78.4\n",
              "1  61.3  40.8  30.8  37.8  87.6\n",
              "2  20.6  73.2  44.2  14.6  91.8\n",
              "3  57.4   0.1  96.1   4.2  69.5\n",
              "4  83.6  20.5  85.4  22.8  35.9\n",
              "5  49.0  69.0   0.1  31.8  89.1\n",
              "6  23.3  40.7  95.0  83.8  26.9\n",
              "7  27.6  26.4  53.8  88.8  68.5\n",
              "8  96.6  96.4  53.4  72.4  50.1\n",
              "9  73.7  39.0  43.2  81.6  34.7"
            ],
            "text/html": [
              "\n",
              "  <div id=\"df-fcecaf76-5d34-4b6b-a366-c8af10074319\">\n",
              "    <div class=\"colab-df-container\">\n",
              "      <div>\n",
              "<style scoped>\n",
              "    .dataframe tbody tr th:only-of-type {\n",
              "        vertical-align: middle;\n",
              "    }\n",
              "\n",
              "    .dataframe tbody tr th {\n",
              "        vertical-align: top;\n",
              "    }\n",
              "\n",
              "    .dataframe thead th {\n",
              "        text-align: right;\n",
              "    }\n",
              "</style>\n",
              "<table border=\"1\" class=\"dataframe\">\n",
              "  <thead>\n",
              "    <tr style=\"text-align: right;\">\n",
              "      <th></th>\n",
              "      <th>0</th>\n",
              "      <th>1</th>\n",
              "      <th>2</th>\n",
              "      <th>3</th>\n",
              "      <th>4</th>\n",
              "    </tr>\n",
              "  </thead>\n",
              "  <tbody>\n",
              "    <tr>\n",
              "      <th>0</th>\n",
              "      <td>53.1</td>\n",
              "      <td>95.0</td>\n",
              "      <td>67.5</td>\n",
              "      <td>35.0</td>\n",
              "      <td>78.4</td>\n",
              "    </tr>\n",
              "    <tr>\n",
              "      <th>1</th>\n",
              "      <td>61.3</td>\n",
              "      <td>40.8</td>\n",
              "      <td>30.8</td>\n",
              "      <td>37.8</td>\n",
              "      <td>87.6</td>\n",
              "    </tr>\n",
              "    <tr>\n",
              "      <th>2</th>\n",
              "      <td>20.6</td>\n",
              "      <td>73.2</td>\n",
              "      <td>44.2</td>\n",
              "      <td>14.6</td>\n",
              "      <td>91.8</td>\n",
              "    </tr>\n",
              "    <tr>\n",
              "      <th>3</th>\n",
              "      <td>57.4</td>\n",
              "      <td>0.1</td>\n",
              "      <td>96.1</td>\n",
              "      <td>4.2</td>\n",
              "      <td>69.5</td>\n",
              "    </tr>\n",
              "    <tr>\n",
              "      <th>4</th>\n",
              "      <td>83.6</td>\n",
              "      <td>20.5</td>\n",
              "      <td>85.4</td>\n",
              "      <td>22.8</td>\n",
              "      <td>35.9</td>\n",
              "    </tr>\n",
              "    <tr>\n",
              "      <th>5</th>\n",
              "      <td>49.0</td>\n",
              "      <td>69.0</td>\n",
              "      <td>0.1</td>\n",
              "      <td>31.8</td>\n",
              "      <td>89.1</td>\n",
              "    </tr>\n",
              "    <tr>\n",
              "      <th>6</th>\n",
              "      <td>23.3</td>\n",
              "      <td>40.7</td>\n",
              "      <td>95.0</td>\n",
              "      <td>83.8</td>\n",
              "      <td>26.9</td>\n",
              "    </tr>\n",
              "    <tr>\n",
              "      <th>7</th>\n",
              "      <td>27.6</td>\n",
              "      <td>26.4</td>\n",
              "      <td>53.8</td>\n",
              "      <td>88.8</td>\n",
              "      <td>68.5</td>\n",
              "    </tr>\n",
              "    <tr>\n",
              "      <th>8</th>\n",
              "      <td>96.6</td>\n",
              "      <td>96.4</td>\n",
              "      <td>53.4</td>\n",
              "      <td>72.4</td>\n",
              "      <td>50.1</td>\n",
              "    </tr>\n",
              "    <tr>\n",
              "      <th>9</th>\n",
              "      <td>73.7</td>\n",
              "      <td>39.0</td>\n",
              "      <td>43.2</td>\n",
              "      <td>81.6</td>\n",
              "      <td>34.7</td>\n",
              "    </tr>\n",
              "  </tbody>\n",
              "</table>\n",
              "</div>\n",
              "      <button class=\"colab-df-convert\" onclick=\"convertToInteractive('df-fcecaf76-5d34-4b6b-a366-c8af10074319')\"\n",
              "              title=\"Convert this dataframe to an interactive table.\"\n",
              "              style=\"display:none;\">\n",
              "        \n",
              "  <svg xmlns=\"http://www.w3.org/2000/svg\" height=\"24px\"viewBox=\"0 0 24 24\"\n",
              "       width=\"24px\">\n",
              "    <path d=\"M0 0h24v24H0V0z\" fill=\"none\"/>\n",
              "    <path d=\"M18.56 5.44l.94 2.06.94-2.06 2.06-.94-2.06-.94-.94-2.06-.94 2.06-2.06.94zm-11 1L8.5 8.5l.94-2.06 2.06-.94-2.06-.94L8.5 2.5l-.94 2.06-2.06.94zm10 10l.94 2.06.94-2.06 2.06-.94-2.06-.94-.94-2.06-.94 2.06-2.06.94z\"/><path d=\"M17.41 7.96l-1.37-1.37c-.4-.4-.92-.59-1.43-.59-.52 0-1.04.2-1.43.59L10.3 9.45l-7.72 7.72c-.78.78-.78 2.05 0 2.83L4 21.41c.39.39.9.59 1.41.59.51 0 1.02-.2 1.41-.59l7.78-7.78 2.81-2.81c.8-.78.8-2.07 0-2.86zM5.41 20L4 18.59l7.72-7.72 1.47 1.35L5.41 20z\"/>\n",
              "  </svg>\n",
              "      </button>\n",
              "      \n",
              "  <style>\n",
              "    .colab-df-container {\n",
              "      display:flex;\n",
              "      flex-wrap:wrap;\n",
              "      gap: 12px;\n",
              "    }\n",
              "\n",
              "    .colab-df-convert {\n",
              "      background-color: #E8F0FE;\n",
              "      border: none;\n",
              "      border-radius: 50%;\n",
              "      cursor: pointer;\n",
              "      display: none;\n",
              "      fill: #1967D2;\n",
              "      height: 32px;\n",
              "      padding: 0 0 0 0;\n",
              "      width: 32px;\n",
              "    }\n",
              "\n",
              "    .colab-df-convert:hover {\n",
              "      background-color: #E2EBFA;\n",
              "      box-shadow: 0px 1px 2px rgba(60, 64, 67, 0.3), 0px 1px 3px 1px rgba(60, 64, 67, 0.15);\n",
              "      fill: #174EA6;\n",
              "    }\n",
              "\n",
              "    [theme=dark] .colab-df-convert {\n",
              "      background-color: #3B4455;\n",
              "      fill: #D2E3FC;\n",
              "    }\n",
              "\n",
              "    [theme=dark] .colab-df-convert:hover {\n",
              "      background-color: #434B5C;\n",
              "      box-shadow: 0px 1px 3px 1px rgba(0, 0, 0, 0.15);\n",
              "      filter: drop-shadow(0px 1px 2px rgba(0, 0, 0, 0.3));\n",
              "      fill: #FFFFFF;\n",
              "    }\n",
              "  </style>\n",
              "\n",
              "      <script>\n",
              "        const buttonEl =\n",
              "          document.querySelector('#df-fcecaf76-5d34-4b6b-a366-c8af10074319 button.colab-df-convert');\n",
              "        buttonEl.style.display =\n",
              "          google.colab.kernel.accessAllowed ? 'block' : 'none';\n",
              "\n",
              "        async function convertToInteractive(key) {\n",
              "          const element = document.querySelector('#df-fcecaf76-5d34-4b6b-a366-c8af10074319');\n",
              "          const dataTable =\n",
              "            await google.colab.kernel.invokeFunction('convertToInteractive',\n",
              "                                                     [key], {});\n",
              "          if (!dataTable) return;\n",
              "\n",
              "          const docLinkHtml = 'Like what you see? Visit the ' +\n",
              "            '<a target=\"_blank\" href=https://colab.research.google.com/notebooks/data_table.ipynb>data table notebook</a>'\n",
              "            + ' to learn more about interactive tables.';\n",
              "          element.innerHTML = '';\n",
              "          dataTable['output_type'] = 'display_data';\n",
              "          await google.colab.output.renderOutput(dataTable, element);\n",
              "          const docLink = document.createElement('div');\n",
              "          docLink.innerHTML = docLinkHtml;\n",
              "          element.appendChild(docLink);\n",
              "        }\n",
              "      </script>\n",
              "    </div>\n",
              "  </div>\n",
              "  "
            ]
          },
          "metadata": {},
          "execution_count": 35
        }
      ],
      "source": [
        "b = [[53.1, 95.0, 67.5, 35.0, 78.4],\n",
        "     [61.3, 40.8, 30.8, 37.8, 87.6],\n",
        "     [20.6, 73.2, 44.2, 14.6, 91.8],\n",
        "     [57.4, 0.1, 96.1, 4.2, 69.5],\n",
        "     [83.6, 20.5, 85.4, 22.8, 35.9],\n",
        "     [49.0, 69.0, 0.1, 31.8, 89.1],\n",
        "     [23.3, 40.7, 95.0, 83.8, 26.9],\n",
        "     [27.6, 26.4, 53.8, 88.8, 68.5],\n",
        "     [96.6, 96.4, 53.4, 72.4, 50.1],\n",
        "     [73.7, 39.0, 43.2, 81.6, 34.7]] \n",
        "\n",
        "c = pd.DataFrame(b) \n",
        "c\n"
      ]
    },
    {
      "cell_type": "markdown",
      "metadata": {
        "id": "diUgvGu3KVG-"
      },
      "source": [
        "### 5. Rename the data frame columns based on the names in the list below."
      ]
    },
    {
      "cell_type": "code",
      "execution_count": 23,
      "metadata": {
        "id": "1AK75vy8KVG-",
        "outputId": "de332ec9-6090-4fa5-d2c2-fee117e5e6c2",
        "colab": {
          "base_uri": "https://localhost:8080/"
        }
      },
      "outputs": [
        {
          "output_type": "stream",
          "name": "stdout",
          "text": [
            "   Score_1  Score_2  Score_3  Score_4  Score_5\n",
            "0     53.1     95.0     67.5     35.0     78.4\n",
            "1     61.3     40.8     30.8     37.8     87.6\n",
            "2     20.6     73.2     44.2     14.6     91.8\n",
            "3     57.4      0.1     96.1      4.2     69.5\n",
            "4     83.6     20.5     85.4     22.8     35.9\n",
            "5     49.0     69.0      0.1     31.8     89.1\n",
            "6     23.3     40.7     95.0     83.8     26.9\n",
            "7     27.6     26.4     53.8     88.8     68.5\n",
            "8     96.6     96.4     53.4     72.4     50.1\n",
            "9     73.7     39.0     43.2     81.6     34.7\n"
          ]
        }
      ],
      "source": [
        "\n",
        "colnames = ['Score_1', 'Score_2', 'Score_3', 'Score_4', 'Score_5']\n",
        "c_colnames= pd.DataFrame(b, columns=colnames) \n",
        "print(c)"
      ]
    },
    {
      "cell_type": "markdown",
      "source": [],
      "metadata": {
        "id": "zE2EPfx_lmn1"
      }
    },
    {
      "cell_type": "markdown",
      "metadata": {
        "id": "GLhaMxcaKVG_"
      },
      "source": [
        "### 6. Create a subset of this data frame that contains only the Score 1, 3, and 5 columns."
      ]
    },
    {
      "cell_type": "code",
      "execution_count": 28,
      "metadata": {
        "id": "uyHwjNwIKVG_",
        "colab": {
          "base_uri": "https://localhost:8080/",
          "height": 363
        },
        "outputId": "d24e504a-a3bf-4aa5-e95f-9dee0d6cb330"
      },
      "outputs": [
        {
          "output_type": "execute_result",
          "data": {
            "text/plain": [
              "   Score_1  Score_3  Score_5\n",
              "0     53.1     67.5     78.4\n",
              "1     61.3     30.8     87.6\n",
              "2     20.6     44.2     91.8\n",
              "3     57.4     96.1     69.5\n",
              "4     83.6     85.4     35.9\n",
              "5     49.0      0.1     89.1\n",
              "6     23.3     95.0     26.9\n",
              "7     27.6     53.8     68.5\n",
              "8     96.6     53.4     50.1\n",
              "9     73.7     43.2     34.7"
            ],
            "text/html": [
              "\n",
              "  <div id=\"df-10615487-d27d-43d9-b9f6-f8995cac4ba4\">\n",
              "    <div class=\"colab-df-container\">\n",
              "      <div>\n",
              "<style scoped>\n",
              "    .dataframe tbody tr th:only-of-type {\n",
              "        vertical-align: middle;\n",
              "    }\n",
              "\n",
              "    .dataframe tbody tr th {\n",
              "        vertical-align: top;\n",
              "    }\n",
              "\n",
              "    .dataframe thead th {\n",
              "        text-align: right;\n",
              "    }\n",
              "</style>\n",
              "<table border=\"1\" class=\"dataframe\">\n",
              "  <thead>\n",
              "    <tr style=\"text-align: right;\">\n",
              "      <th></th>\n",
              "      <th>Score_1</th>\n",
              "      <th>Score_3</th>\n",
              "      <th>Score_5</th>\n",
              "    </tr>\n",
              "  </thead>\n",
              "  <tbody>\n",
              "    <tr>\n",
              "      <th>0</th>\n",
              "      <td>53.1</td>\n",
              "      <td>67.5</td>\n",
              "      <td>78.4</td>\n",
              "    </tr>\n",
              "    <tr>\n",
              "      <th>1</th>\n",
              "      <td>61.3</td>\n",
              "      <td>30.8</td>\n",
              "      <td>87.6</td>\n",
              "    </tr>\n",
              "    <tr>\n",
              "      <th>2</th>\n",
              "      <td>20.6</td>\n",
              "      <td>44.2</td>\n",
              "      <td>91.8</td>\n",
              "    </tr>\n",
              "    <tr>\n",
              "      <th>3</th>\n",
              "      <td>57.4</td>\n",
              "      <td>96.1</td>\n",
              "      <td>69.5</td>\n",
              "    </tr>\n",
              "    <tr>\n",
              "      <th>4</th>\n",
              "      <td>83.6</td>\n",
              "      <td>85.4</td>\n",
              "      <td>35.9</td>\n",
              "    </tr>\n",
              "    <tr>\n",
              "      <th>5</th>\n",
              "      <td>49.0</td>\n",
              "      <td>0.1</td>\n",
              "      <td>89.1</td>\n",
              "    </tr>\n",
              "    <tr>\n",
              "      <th>6</th>\n",
              "      <td>23.3</td>\n",
              "      <td>95.0</td>\n",
              "      <td>26.9</td>\n",
              "    </tr>\n",
              "    <tr>\n",
              "      <th>7</th>\n",
              "      <td>27.6</td>\n",
              "      <td>53.8</td>\n",
              "      <td>68.5</td>\n",
              "    </tr>\n",
              "    <tr>\n",
              "      <th>8</th>\n",
              "      <td>96.6</td>\n",
              "      <td>53.4</td>\n",
              "      <td>50.1</td>\n",
              "    </tr>\n",
              "    <tr>\n",
              "      <th>9</th>\n",
              "      <td>73.7</td>\n",
              "      <td>43.2</td>\n",
              "      <td>34.7</td>\n",
              "    </tr>\n",
              "  </tbody>\n",
              "</table>\n",
              "</div>\n",
              "      <button class=\"colab-df-convert\" onclick=\"convertToInteractive('df-10615487-d27d-43d9-b9f6-f8995cac4ba4')\"\n",
              "              title=\"Convert this dataframe to an interactive table.\"\n",
              "              style=\"display:none;\">\n",
              "        \n",
              "  <svg xmlns=\"http://www.w3.org/2000/svg\" height=\"24px\"viewBox=\"0 0 24 24\"\n",
              "       width=\"24px\">\n",
              "    <path d=\"M0 0h24v24H0V0z\" fill=\"none\"/>\n",
              "    <path d=\"M18.56 5.44l.94 2.06.94-2.06 2.06-.94-2.06-.94-.94-2.06-.94 2.06-2.06.94zm-11 1L8.5 8.5l.94-2.06 2.06-.94-2.06-.94L8.5 2.5l-.94 2.06-2.06.94zm10 10l.94 2.06.94-2.06 2.06-.94-2.06-.94-.94-2.06-.94 2.06-2.06.94z\"/><path d=\"M17.41 7.96l-1.37-1.37c-.4-.4-.92-.59-1.43-.59-.52 0-1.04.2-1.43.59L10.3 9.45l-7.72 7.72c-.78.78-.78 2.05 0 2.83L4 21.41c.39.39.9.59 1.41.59.51 0 1.02-.2 1.41-.59l7.78-7.78 2.81-2.81c.8-.78.8-2.07 0-2.86zM5.41 20L4 18.59l7.72-7.72 1.47 1.35L5.41 20z\"/>\n",
              "  </svg>\n",
              "      </button>\n",
              "      \n",
              "  <style>\n",
              "    .colab-df-container {\n",
              "      display:flex;\n",
              "      flex-wrap:wrap;\n",
              "      gap: 12px;\n",
              "    }\n",
              "\n",
              "    .colab-df-convert {\n",
              "      background-color: #E8F0FE;\n",
              "      border: none;\n",
              "      border-radius: 50%;\n",
              "      cursor: pointer;\n",
              "      display: none;\n",
              "      fill: #1967D2;\n",
              "      height: 32px;\n",
              "      padding: 0 0 0 0;\n",
              "      width: 32px;\n",
              "    }\n",
              "\n",
              "    .colab-df-convert:hover {\n",
              "      background-color: #E2EBFA;\n",
              "      box-shadow: 0px 1px 2px rgba(60, 64, 67, 0.3), 0px 1px 3px 1px rgba(60, 64, 67, 0.15);\n",
              "      fill: #174EA6;\n",
              "    }\n",
              "\n",
              "    [theme=dark] .colab-df-convert {\n",
              "      background-color: #3B4455;\n",
              "      fill: #D2E3FC;\n",
              "    }\n",
              "\n",
              "    [theme=dark] .colab-df-convert:hover {\n",
              "      background-color: #434B5C;\n",
              "      box-shadow: 0px 1px 3px 1px rgba(0, 0, 0, 0.15);\n",
              "      filter: drop-shadow(0px 1px 2px rgba(0, 0, 0, 0.3));\n",
              "      fill: #FFFFFF;\n",
              "    }\n",
              "  </style>\n",
              "\n",
              "      <script>\n",
              "        const buttonEl =\n",
              "          document.querySelector('#df-10615487-d27d-43d9-b9f6-f8995cac4ba4 button.colab-df-convert');\n",
              "        buttonEl.style.display =\n",
              "          google.colab.kernel.accessAllowed ? 'block' : 'none';\n",
              "\n",
              "        async function convertToInteractive(key) {\n",
              "          const element = document.querySelector('#df-10615487-d27d-43d9-b9f6-f8995cac4ba4');\n",
              "          const dataTable =\n",
              "            await google.colab.kernel.invokeFunction('convertToInteractive',\n",
              "                                                     [key], {});\n",
              "          if (!dataTable) return;\n",
              "\n",
              "          const docLinkHtml = 'Like what you see? Visit the ' +\n",
              "            '<a target=\"_blank\" href=https://colab.research.google.com/notebooks/data_table.ipynb>data table notebook</a>'\n",
              "            + ' to learn more about interactive tables.';\n",
              "          element.innerHTML = '';\n",
              "          dataTable['output_type'] = 'display_data';\n",
              "          await google.colab.output.renderOutput(dataTable, element);\n",
              "          const docLink = document.createElement('div');\n",
              "          docLink.innerHTML = docLinkHtml;\n",
              "          element.appendChild(docLink);\n",
              "        }\n",
              "      </script>\n",
              "    </div>\n",
              "  </div>\n",
              "  "
            ]
          },
          "metadata": {},
          "execution_count": 28
        }
      ],
      "source": [
        "c[['Score_1', 'Score_3', 'Score_5']]"
      ]
    },
    {
      "cell_type": "markdown",
      "metadata": {
        "id": "bEEdfkq5KVG_"
      },
      "source": [
        "### 7. From the original data frame, calculate the average Score_3 value."
      ]
    },
    {
      "cell_type": "code",
      "execution_count": 57,
      "metadata": {
        "id": "aGPsD_EcKVG_",
        "colab": {
          "base_uri": "https://localhost:8080/"
        },
        "outputId": "0475018b-b48f-487a-9d9a-ca915deee20d"
      },
      "outputs": [
        {
          "output_type": "execute_result",
          "data": {
            "text/plain": [
              "56.95000000000001"
            ]
          },
          "metadata": {},
          "execution_count": 57
        }
      ],
      "source": [
        "\n",
        "c_colnames[\"Score_3\"].mean()"
      ]
    },
    {
      "cell_type": "markdown",
      "metadata": {
        "id": "HvjWee_lKVG_"
      },
      "source": [
        "### 8. From the original data frame, calculate the maximum Score_4 value."
      ]
    },
    {
      "cell_type": "code",
      "execution_count": 58,
      "metadata": {
        "id": "5PAeh2RSKVG_",
        "colab": {
          "base_uri": "https://localhost:8080/"
        },
        "outputId": "91845a76-ac2b-45a4-bad8-96e4eef4b3a9"
      },
      "outputs": [
        {
          "output_type": "execute_result",
          "data": {
            "text/plain": [
              "88.8"
            ]
          },
          "metadata": {},
          "execution_count": 58
        }
      ],
      "source": [
        "c_colnames['Score_4'].max()"
      ]
    },
    {
      "cell_type": "markdown",
      "metadata": {
        "id": "BFWPEjmlKVG_"
      },
      "source": [
        "### 9. From the original data frame, calculate the median Score 2 value."
      ]
    },
    {
      "cell_type": "code",
      "execution_count": 60,
      "metadata": {
        "id": "7VTBhvr6KVG_",
        "colab": {
          "base_uri": "https://localhost:8080/"
        },
        "outputId": "b800d882-d15c-42a6-df28-f937532174a9"
      },
      "outputs": [
        {
          "output_type": "execute_result",
          "data": {
            "text/plain": [
              "40.75"
            ]
          },
          "metadata": {},
          "execution_count": 60
        }
      ],
      "source": [
        "c_colnames['Score_2'].median()"
      ]
    },
    {
      "cell_type": "markdown",
      "metadata": {
        "id": "UG5shQsdKVG_"
      },
      "source": [
        "### 10. Create a Pandas DataFrame from the dictionary of product orders below."
      ]
    },
    {
      "cell_type": "code",
      "execution_count": 63,
      "metadata": {
        "id": "gJkzQpJUKVG_"
      },
      "outputs": [],
      "source": [
        "orders = {'Description': ['LUNCH BAG APPLE DESIGN',\n",
        "  'SET OF 60 VINTAGE LEAF CAKE CASES ',\n",
        "  'RIBBON REEL STRIPES DESIGN ',\n",
        "  'WORLD WAR 2 GLIDERS ASSTD DESIGNS',\n",
        "  'PLAYING CARDS JUBILEE UNION JACK',\n",
        "  'POPCORN HOLDER',\n",
        "  'BOX OF VINTAGE ALPHABET BLOCKS',\n",
        "  'PARTY BUNTING',\n",
        "  'JAZZ HEARTS ADDRESS BOOK',\n",
        "  'SET OF 4 SANTA PLACE SETTINGS'],\n",
        " 'Quantity': [1, 24, 1, 2880, 2, 7, 1, 4, 10, 48],\n",
        " 'UnitPrice': [1.65, 0.55, 1.65, 0.18, 1.25, 0.85, 11.95, 4.95, 0.19, 1.25],\n",
        " 'Revenue': [1.65, 13.2, 1.65, 518.4, 2.5, 5.95, 11.95, 19.8, 1.9, 60.0]}"
      ]
    },
    {
      "cell_type": "code",
      "execution_count": 93,
      "metadata": {
        "id": "P5-wU6nwKVG_",
        "colab": {
          "base_uri": "https://localhost:8080/",
          "height": 363
        },
        "outputId": "15e64f78-0252-4ceb-c977-32ad0098fdfe"
      },
      "outputs": [
        {
          "output_type": "execute_result",
          "data": {
            "text/plain": [
              "                          Description  Quantity  UnitPrice  Revenue\n",
              "0              LUNCH BAG APPLE DESIGN         1       1.65     1.65\n",
              "1  SET OF 60 VINTAGE LEAF CAKE CASES         24       0.55    13.20\n",
              "2         RIBBON REEL STRIPES DESIGN          1       1.65     1.65\n",
              "3   WORLD WAR 2 GLIDERS ASSTD DESIGNS      2880       0.18   518.40\n",
              "4    PLAYING CARDS JUBILEE UNION JACK         2       1.25     2.50\n",
              "5                      POPCORN HOLDER         7       0.85     5.95\n",
              "6      BOX OF VINTAGE ALPHABET BLOCKS         1      11.95    11.95\n",
              "7                       PARTY BUNTING         4       4.95    19.80\n",
              "8            JAZZ HEARTS ADDRESS BOOK        10       0.19     1.90\n",
              "9       SET OF 4 SANTA PLACE SETTINGS        48       1.25    60.00"
            ],
            "text/html": [
              "\n",
              "  <div id=\"df-799c0699-efa5-4bfb-a73c-bfe4fd99cd87\">\n",
              "    <div class=\"colab-df-container\">\n",
              "      <div>\n",
              "<style scoped>\n",
              "    .dataframe tbody tr th:only-of-type {\n",
              "        vertical-align: middle;\n",
              "    }\n",
              "\n",
              "    .dataframe tbody tr th {\n",
              "        vertical-align: top;\n",
              "    }\n",
              "\n",
              "    .dataframe thead th {\n",
              "        text-align: right;\n",
              "    }\n",
              "</style>\n",
              "<table border=\"1\" class=\"dataframe\">\n",
              "  <thead>\n",
              "    <tr style=\"text-align: right;\">\n",
              "      <th></th>\n",
              "      <th>Description</th>\n",
              "      <th>Quantity</th>\n",
              "      <th>UnitPrice</th>\n",
              "      <th>Revenue</th>\n",
              "    </tr>\n",
              "  </thead>\n",
              "  <tbody>\n",
              "    <tr>\n",
              "      <th>0</th>\n",
              "      <td>LUNCH BAG APPLE DESIGN</td>\n",
              "      <td>1</td>\n",
              "      <td>1.65</td>\n",
              "      <td>1.65</td>\n",
              "    </tr>\n",
              "    <tr>\n",
              "      <th>1</th>\n",
              "      <td>SET OF 60 VINTAGE LEAF CAKE CASES</td>\n",
              "      <td>24</td>\n",
              "      <td>0.55</td>\n",
              "      <td>13.20</td>\n",
              "    </tr>\n",
              "    <tr>\n",
              "      <th>2</th>\n",
              "      <td>RIBBON REEL STRIPES DESIGN</td>\n",
              "      <td>1</td>\n",
              "      <td>1.65</td>\n",
              "      <td>1.65</td>\n",
              "    </tr>\n",
              "    <tr>\n",
              "      <th>3</th>\n",
              "      <td>WORLD WAR 2 GLIDERS ASSTD DESIGNS</td>\n",
              "      <td>2880</td>\n",
              "      <td>0.18</td>\n",
              "      <td>518.40</td>\n",
              "    </tr>\n",
              "    <tr>\n",
              "      <th>4</th>\n",
              "      <td>PLAYING CARDS JUBILEE UNION JACK</td>\n",
              "      <td>2</td>\n",
              "      <td>1.25</td>\n",
              "      <td>2.50</td>\n",
              "    </tr>\n",
              "    <tr>\n",
              "      <th>5</th>\n",
              "      <td>POPCORN HOLDER</td>\n",
              "      <td>7</td>\n",
              "      <td>0.85</td>\n",
              "      <td>5.95</td>\n",
              "    </tr>\n",
              "    <tr>\n",
              "      <th>6</th>\n",
              "      <td>BOX OF VINTAGE ALPHABET BLOCKS</td>\n",
              "      <td>1</td>\n",
              "      <td>11.95</td>\n",
              "      <td>11.95</td>\n",
              "    </tr>\n",
              "    <tr>\n",
              "      <th>7</th>\n",
              "      <td>PARTY BUNTING</td>\n",
              "      <td>4</td>\n",
              "      <td>4.95</td>\n",
              "      <td>19.80</td>\n",
              "    </tr>\n",
              "    <tr>\n",
              "      <th>8</th>\n",
              "      <td>JAZZ HEARTS ADDRESS BOOK</td>\n",
              "      <td>10</td>\n",
              "      <td>0.19</td>\n",
              "      <td>1.90</td>\n",
              "    </tr>\n",
              "    <tr>\n",
              "      <th>9</th>\n",
              "      <td>SET OF 4 SANTA PLACE SETTINGS</td>\n",
              "      <td>48</td>\n",
              "      <td>1.25</td>\n",
              "      <td>60.00</td>\n",
              "    </tr>\n",
              "  </tbody>\n",
              "</table>\n",
              "</div>\n",
              "      <button class=\"colab-df-convert\" onclick=\"convertToInteractive('df-799c0699-efa5-4bfb-a73c-bfe4fd99cd87')\"\n",
              "              title=\"Convert this dataframe to an interactive table.\"\n",
              "              style=\"display:none;\">\n",
              "        \n",
              "  <svg xmlns=\"http://www.w3.org/2000/svg\" height=\"24px\"viewBox=\"0 0 24 24\"\n",
              "       width=\"24px\">\n",
              "    <path d=\"M0 0h24v24H0V0z\" fill=\"none\"/>\n",
              "    <path d=\"M18.56 5.44l.94 2.06.94-2.06 2.06-.94-2.06-.94-.94-2.06-.94 2.06-2.06.94zm-11 1L8.5 8.5l.94-2.06 2.06-.94-2.06-.94L8.5 2.5l-.94 2.06-2.06.94zm10 10l.94 2.06.94-2.06 2.06-.94-2.06-.94-.94-2.06-.94 2.06-2.06.94z\"/><path d=\"M17.41 7.96l-1.37-1.37c-.4-.4-.92-.59-1.43-.59-.52 0-1.04.2-1.43.59L10.3 9.45l-7.72 7.72c-.78.78-.78 2.05 0 2.83L4 21.41c.39.39.9.59 1.41.59.51 0 1.02-.2 1.41-.59l7.78-7.78 2.81-2.81c.8-.78.8-2.07 0-2.86zM5.41 20L4 18.59l7.72-7.72 1.47 1.35L5.41 20z\"/>\n",
              "  </svg>\n",
              "      </button>\n",
              "      \n",
              "  <style>\n",
              "    .colab-df-container {\n",
              "      display:flex;\n",
              "      flex-wrap:wrap;\n",
              "      gap: 12px;\n",
              "    }\n",
              "\n",
              "    .colab-df-convert {\n",
              "      background-color: #E8F0FE;\n",
              "      border: none;\n",
              "      border-radius: 50%;\n",
              "      cursor: pointer;\n",
              "      display: none;\n",
              "      fill: #1967D2;\n",
              "      height: 32px;\n",
              "      padding: 0 0 0 0;\n",
              "      width: 32px;\n",
              "    }\n",
              "\n",
              "    .colab-df-convert:hover {\n",
              "      background-color: #E2EBFA;\n",
              "      box-shadow: 0px 1px 2px rgba(60, 64, 67, 0.3), 0px 1px 3px 1px rgba(60, 64, 67, 0.15);\n",
              "      fill: #174EA6;\n",
              "    }\n",
              "\n",
              "    [theme=dark] .colab-df-convert {\n",
              "      background-color: #3B4455;\n",
              "      fill: #D2E3FC;\n",
              "    }\n",
              "\n",
              "    [theme=dark] .colab-df-convert:hover {\n",
              "      background-color: #434B5C;\n",
              "      box-shadow: 0px 1px 3px 1px rgba(0, 0, 0, 0.15);\n",
              "      filter: drop-shadow(0px 1px 2px rgba(0, 0, 0, 0.3));\n",
              "      fill: #FFFFFF;\n",
              "    }\n",
              "  </style>\n",
              "\n",
              "      <script>\n",
              "        const buttonEl =\n",
              "          document.querySelector('#df-799c0699-efa5-4bfb-a73c-bfe4fd99cd87 button.colab-df-convert');\n",
              "        buttonEl.style.display =\n",
              "          google.colab.kernel.accessAllowed ? 'block' : 'none';\n",
              "\n",
              "        async function convertToInteractive(key) {\n",
              "          const element = document.querySelector('#df-799c0699-efa5-4bfb-a73c-bfe4fd99cd87');\n",
              "          const dataTable =\n",
              "            await google.colab.kernel.invokeFunction('convertToInteractive',\n",
              "                                                     [key], {});\n",
              "          if (!dataTable) return;\n",
              "\n",
              "          const docLinkHtml = 'Like what you see? Visit the ' +\n",
              "            '<a target=\"_blank\" href=https://colab.research.google.com/notebooks/data_table.ipynb>data table notebook</a>'\n",
              "            + ' to learn more about interactive tables.';\n",
              "          element.innerHTML = '';\n",
              "          dataTable['output_type'] = 'display_data';\n",
              "          await google.colab.output.renderOutput(dataTable, element);\n",
              "          const docLink = document.createElement('div');\n",
              "          docLink.innerHTML = docLinkHtml;\n",
              "          element.appendChild(docLink);\n",
              "        }\n",
              "      </script>\n",
              "    </div>\n",
              "  </div>\n",
              "  "
            ]
          },
          "metadata": {},
          "execution_count": 93
        }
      ],
      "source": [
        "orders_df = pd.DataFrame(orders)  \n",
        "orders_df\n"
      ]
    },
    {
      "cell_type": "markdown",
      "metadata": {
        "id": "wpCdDCyJKVG_"
      },
      "source": [
        "### 11. Calculate the total quantity ordered and revenue generated from these orders."
      ]
    },
    {
      "cell_type": "code",
      "execution_count": 89,
      "metadata": {
        "id": "8NT0PhSHKVG_",
        "colab": {
          "base_uri": "https://localhost:8080/"
        },
        "outputId": "93d2d96e-a181-49c4-edc9-5270091098a4"
      },
      "outputs": [
        {
          "output_type": "stream",
          "name": "stdout",
          "text": [
            "the total Revenue is=  637.0\n",
            "the total Quantity is:  2978\n"
          ]
        }
      ],
      "source": [
        "Trevenue = orders_df['Revenue'].sum() \n",
        "print(\"the total Revenue is= \", Trevenue)\n",
        "\n",
        "\n",
        "\n",
        "\n",
        "Tquantity = orders_df['Quantity'].sum()  \n",
        "print(\"the total Quantity is: \", Tquantity)\n",
        "\n",
        "\n",
        "\n"
      ]
    },
    {
      "cell_type": "markdown",
      "metadata": {
        "id": "evvVS1kIKVG_"
      },
      "source": [
        "### 12. Obtain the prices of the most expensive and least expensive items ordered and print the difference."
      ]
    },
    {
      "cell_type": "code",
      "execution_count": 94,
      "metadata": {
        "id": "Z3ovt21wKVG_",
        "colab": {
          "base_uri": "https://localhost:8080/"
        },
        "outputId": "6bd5161d-1f90-40f7-fde4-fa6314f61689"
      },
      "outputs": [
        {
          "output_type": "stream",
          "name": "stdout",
          "text": [
            "11.77\n"
          ]
        }
      ],
      "source": [
        "print(orders_df['UnitPrice'].max() - orders_df['UnitPrice'].min())"
      ]
    }
  ],
  "metadata": {
    "kernelspec": {
      "display_name": "Python 3",
      "language": "python",
      "name": "python3"
    },
    "language_info": {
      "codemirror_mode": {
        "name": "ipython",
        "version": 3
      },
      "file_extension": ".py",
      "mimetype": "text/x-python",
      "name": "python",
      "nbconvert_exporter": "python",
      "pygments_lexer": "ipython3",
      "version": "3.7.0"
    },
    "colab": {
      "provenance": [],
      "collapsed_sections": [],
      "include_colab_link": true
    }
  },
  "nbformat": 4,
  "nbformat_minor": 0
}